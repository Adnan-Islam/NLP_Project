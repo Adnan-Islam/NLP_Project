{
 "cells": [
  {
   "cell_type": "code",
   "execution_count": 1,
   "metadata": {},
   "outputs": [
    {
     "name": "stderr",
     "output_type": "stream",
     "text": [
      "Using TensorFlow backend.\n"
     ]
    }
   ],
   "source": [
    "import pandas as pd\n",
    "import urllib\n",
    "from sklearn.pipeline import Pipeline\n",
    "from sklearn.feature_extraction.text import CountVectorizer\n",
    "from sklearn.feature_extraction.text import TfidfTransformer\n",
    "from sklearn.linear_model import LogisticRegression\n",
    "from sklearn.metrics import roc_auc_score\n",
    "import pandas as pd\n",
    "import numpy as np\n",
    "from sklearn import model_selection, preprocessing, linear_model, naive_bayes, metrics, svm\n",
    "from sklearn.feature_extraction.text import TfidfVectorizer, CountVectorizer\n",
    "from keras.preprocessing import text, sequence\n",
    "from keras import layers, models, optimizers\n",
    "import keras\n",
    "import re\n",
    "from sklearn.model_selection import train_test_split\n",
    "from sklearn.pipeline import Pipeline\n",
    "from sklearn.metrics import roc_auc_score\n",
    "from sklearn.feature_extraction.text import TfidfVectorizer, CountVectorizer\n",
    "from sklearn import decomposition, ensemble\n",
    "import pandas as pd\n",
    "import matplotlib.pyplot as plt\n",
    "import nltk\n",
    "from nltk.stem import PorterStemmer \n",
    "from nltk.tokenize import word_tokenize\n",
    "from inscriptis import get_text\n",
    "import urllib.request\n",
    "import urllib3\n",
    "import re"
   ]
  },
  {
   "cell_type": "code",
   "execution_count": 2,
   "metadata": {},
   "outputs": [],
   "source": [
    "comments = pd.read_csv('attack_annotated_comments.tsv', sep = '\\t', index_col = 0)\n",
    "annotations = pd.read_csv('attack_annotations.tsv',  sep = '\\t')"
   ]
  },
  {
   "cell_type": "code",
   "execution_count": 3,
   "metadata": {},
   "outputs": [],
   "source": [
    "comments = pd.read_csv('attack_annotated_comments.tsv', sep = '\\t', index_col = 0)\n",
    "annotations = pd.read_csv('attack_annotations.tsv',  sep = '\\t')"
   ]
  },
  {
   "cell_type": "code",
   "execution_count": 3,
   "metadata": {},
   "outputs": [
    {
     "data": {
      "text/plain": [
       "115864"
      ]
     },
     "execution_count": 3,
     "metadata": {},
     "output_type": "execute_result"
    }
   ],
   "source": [
    "len(annotations['rev_id'].unique())"
   ]
  },
  {
   "cell_type": "code",
   "execution_count": 4,
   "metadata": {},
   "outputs": [],
   "source": [
    "# labels a comment as an atack if the majority of annoatators did so\n",
    "labels = annotations.groupby('rev_id')['attack'].mean() > 0.5"
   ]
  },
  {
   "cell_type": "code",
   "execution_count": 5,
   "metadata": {},
   "outputs": [],
   "source": [
    "# join labels and comments\n",
    "comments['attack'] = labels"
   ]
  },
  {
   "cell_type": "code",
   "execution_count": 6,
   "metadata": {},
   "outputs": [],
   "source": [
    "# remove newline and tab tokens\n",
    "comments['comment'] = comments['comment'].apply(lambda x: x.replace(\"NEWLINE_TOKEN\", \" \"))\n",
    "comments['comment'] = comments['comment'].apply(lambda x: x.replace(\"TAB_TOKEN\", \" \"))"
   ]
  },
  {
   "cell_type": "code",
   "execution_count": 7,
   "metadata": {},
   "outputs": [
    {
     "data": {
      "text/plain": [
       "13590"
      ]
     },
     "execution_count": 7,
     "metadata": {},
     "output_type": "execute_result"
    }
   ],
   "source": [
    "x=comments.query('attack')['comment']\n",
    "len(comments.query('attack')['comment'])"
   ]
  },
  {
   "cell_type": "code",
   "execution_count": 8,
   "metadata": {},
   "outputs": [
    {
     "name": "stderr",
     "output_type": "stream",
     "text": [
      "C:\\Users\\islam\\Anaconda3\\lib\\site-packages\\sklearn\\linear_model\\logistic.py:432: FutureWarning: Default solver will be changed to 'lbfgs' in 0.22. Specify a solver to silence this warning.\n",
      "  FutureWarning)\n"
     ]
    },
    {
     "name": "stdout",
     "output_type": "stream",
     "text": [
      "Test ROC AUC: 0.957\n"
     ]
    }
   ],
   "source": [
    "# fit a simple text classifier\n",
    "\n",
    "train_comments = comments.query(\"split=='train'\")\n",
    "test_comments = comments.query(\"split=='test'\")\n",
    "\n",
    "clf = Pipeline([\n",
    "    ('vect', CountVectorizer(max_features = 10000, ngram_range = (1,2))),\n",
    "    ('tfidf', TfidfTransformer(norm = 'l2')),\n",
    "    ('clf', LogisticRegression()),\n",
    "])\n",
    "clf = clf.fit(train_comments['comment'], train_comments['attack'])\n",
    "auc = roc_auc_score(test_comments['attack'], clf.predict_proba(test_comments['comment'])[:, 1])\n",
    "print('Test ROC AUC: %.3f' %auc)"
   ]
  },
  {
   "cell_type": "code",
   "execution_count": 10,
   "metadata": {},
   "outputs": [
    {
     "data": {
      "text/plain": [
       "array([False])"
      ]
     },
     "execution_count": 10,
     "metadata": {},
     "output_type": "execute_result"
    }
   ],
   "source": [
    "# correctly classify nice comment\n",
    "clf.predict(['You have been working hard. You have done a great job'])"
   ]
  },
  {
   "cell_type": "code",
   "execution_count": 11,
   "metadata": {},
   "outputs": [
    {
     "data": {
      "text/plain": [
       "array([ True])"
      ]
     },
     "execution_count": 11,
     "metadata": {},
     "output_type": "execute_result"
    }
   ],
   "source": [
    "# correctly classify bad comment\n",
    "clf.predict(['You are so stupid, only stupid can work like this !'])"
   ]
  },
  {
   "cell_type": "code",
   "execution_count": 12,
   "metadata": {},
   "outputs": [],
   "source": [
    "from empath import Empath\n",
    "lexicon = Empath()"
   ]
  },
  {
   "cell_type": "code",
   "execution_count": 13,
   "metadata": {},
   "outputs": [
    {
     "name": "stdout",
     "output_type": "stream",
     "text": [
      "Enter your value: https://sentence.yourdictionary.com/hate\n",
      "https://sentence.yourdictionary.com/hate\n",
      "=============================================\n",
      "Detected hate sentance: I hate those little trolls\n",
      "Positive Emotion: 0.0\n",
      "Negative Emotion: 0.2\n",
      "\n",
      " \n",
      "Detected hate sentance: A man offended you and you shot him, and you say you do not know God and hate your life\n",
      "Positive Emotion: 0.0\n",
      "Negative Emotion: 0.05\n",
      "\n",
      " \n",
      "Detected hate sentance: Hate it, hate it, hate it, and I can't stop eating it!\n",
      "                        God, I hate men!\n",
      "                        They hate my guts\n",
      "Positive Emotion: 0.0\n",
      "Negative Emotion: 0.25\n",
      "\n",
      " \n",
      "Detected hate sentance: You must hate me\n",
      "Positive Emotion: 0.0\n",
      "Negative Emotion: 0.25\n",
      "\n",
      " \n",
      "Detected hate sentance: I don't hate you, Deidre\n",
      "Positive Emotion: 0.0\n",
      "Negative Emotion: 0.2\n",
      "\n",
      " \n",
      "Detected hate sentance: \"You don't hate me, and I'm dying soon,\" she said ruefully\n",
      "Positive Emotion: 0.0\n",
      "Negative Emotion: 0.18181818181818182\n",
      "\n",
      " \n",
      "Detected hate sentance: I hate the bastard\n",
      "Positive Emotion: 0.0\n",
      "Negative Emotion: 0.25\n",
      "\n",
      " \n",
      "Detected hate sentance: These men hate you and everything you stand for\n",
      "Positive Emotion: 0.0\n",
      "Negative Emotion: 0.1111111111111111\n",
      "\n",
      " \n",
      "Detected hate sentance: I hate organ transplants\n",
      "Positive Emotion: 0.0\n",
      "Negative Emotion: 0.25\n",
      "\n",
      " \n",
      "Detected hate sentance: You're too nice a guy to hate\n",
      "Positive Emotion: 0.0\n",
      "Negative Emotion: 0.14285714285714285\n",
      "\n",
      " \n",
      "Detected hate sentance: He wanted to hate you – wanted you to fall on your face\n",
      "Positive Emotion: 0.0\n",
      "Negative Emotion: 0.23076923076923078\n",
      "\n",
      " \n",
      "Detected hate sentance: \"I hate living in shit,\" Dusty said\n",
      "Positive Emotion: 0.0\n",
      "Negative Emotion: 0.14285714285714285\n",
      "\n",
      " \n",
      "Detected hate sentance: And I hate flowers\n",
      "Positive Emotion: 0.0\n",
      "Negative Emotion: 0.25\n",
      "\n",
      " \n",
      "Detected hate sentance: \"I really hate you right now,\" she whispered, eyes blurring\n",
      "Positive Emotion: 0.0\n",
      "Negative Emotion: 0.1\n",
      "\n",
      " \n",
      "Detected hate sentance: I was sixteen and pregnant and my mother tossed me out of the house and then I was a street smart seventeen year old mother without a pot to piss in and no options to get one then if I screw this guy I can maybe get a million dollars and feed my baby and not listen to gun shots outside my door and I been standing here at the window a long, long time, begging for a ticket to fly out of here and no one has handed me anything but shit and now this guy is holding this first class pass and all I have to do is reach out and grab it but I know I might hate myself for tacking it because this ticket clerk is kind of a jerk sometimes but an okay guy most of the time and he's nice to me and he listens to me, and he loves me and I know if I take it and fly it will kill him\n",
      "Positive Emotion: 0.0\n",
      "Negative Emotion: 0.011764705882352941\n",
      "\n",
      " \n",
      "Detected hate sentance: Hate those little bastards\n",
      "Positive Emotion: 0.0\n",
      "Negative Emotion: 0.0\n",
      "\n",
      " \n",
      "Detected hate sentance: I'd hate to have to renege on my promise and kill you\n",
      "Positive Emotion: 0.0\n",
      "Negative Emotion: 0.16666666666666666\n",
      "\n",
      " \n",
      "Detected hate sentance: He wanted to hate you â€“ wanted you to fall on your face\n",
      "Positive Emotion: 0.0\n",
      "Negative Emotion: 0.23076923076923078\n",
      "\n",
      " \n",
      "Detected hate sentance: Do not buy Appletree Cottage if you hate campanology!\n",
      "                        I hate how you're so perfect, and you're so carefree\n",
      "Positive Emotion: 0.0\n",
      "Negative Emotion: 0.10526315789473684\n",
      "\n",
      " \n",
      "Detected hate sentance: now incarcerated in the attic room Jane confronts her alter-ego \" What have you done you've made them hate me?\n",
      "                        And they have awful immoral indignation if you hate them back, yet they still hate you if you don't\n",
      "Positive Emotion: 0.0\n",
      "Negative Emotion: 0.07692307692307693\n",
      "\n",
      " \n",
      "Detected hate sentance: pet hate\n",
      "Positive Emotion: 0.0\n",
      "Negative Emotion: 0.5\n",
      "\n",
      " \n",
      "Detected hate sentance: Wal-Mart covering up ' I hate you ' baby toy?\n",
      "                        Most real incidents are isolated things, usually involving children entirely unconnected with a \" hate \" group\n",
      "Positive Emotion: 0.0\n",
      "Negative Emotion: 0.07407407407407407\n",
      "\n",
      " \n",
      "Detected hate sentance: We HATE those scum over here\n",
      "Positive Emotion: 0.0\n",
      "Negative Emotion: 0.0\n",
      "\n",
      " \n",
      "Detected hate sentance: Don't spend another summer working a job that you hate , when you can be earning cash doing something you really enjoy!\n",
      "                        Unfortunately, you'll have to wait out that relationship -- you can't go and try to be a home wrecker, he'll hate you\n",
      "Positive Emotion: 0.0\n",
      "Negative Emotion: 0.045454545454545456\n",
      "\n",
      " \n",
      "Detected hate sentance: You push it in and out repeatedly to distort the music, thus producing a totally rockin' wail sound that will make old people hate you\n",
      "Positive Emotion: 0.0\n",
      "Negative Emotion: 0.04\n",
      "\n",
      " \n",
      "Detected hate sentance: Regular trims: If you are trying to grow you hair out or hate the thought of cutting your hair, you probably fear having a regular trim\n",
      "Positive Emotion: 0.0\n",
      "Negative Emotion: 0.038461538461538464\n",
      "\n",
      " \n",
      "Detected hate sentance: Do you hate it when your tees show a flash of skin when you move and bend?\n",
      "                        Longer Skirts: If you hate feeling like your dress will blow up over your head at any moment, you can always go for a tiered effect\n",
      "Positive Emotion: 0.023255813953488372\n",
      "Negative Emotion: 0.046511627906976744\n",
      "\n",
      " \n"
     ]
    }
   ],
   "source": [
    "html = urllib.request.urlopen(\"https://sentence.yourdictionary.com/hate\").read().decode('utf-8')\n",
    "val = input(\"Enter your value: \") \n",
    "print(val)\n",
    "print(\"=============================================\")\n",
    "text = get_text(html)\n",
    "text=text.strip()\n",
    "text=text.split('.')\n",
    "for i in text:\n",
    "    i=i.replace(\"NEWLINE_TOKEN\", \" \")\n",
    "    i=i.rstrip()\n",
    "    for x in range(50):\n",
    "        i=i.replace(str(x), \" \")\n",
    "    i=i.replace(\"TAB_TOKEN\", \" \")\n",
    "    i=i.replace('[/(){}\\[\\]\\|@,;]','')\n",
    "    i=i.replace('[^0-9a-z #+_]','')\n",
    "    i=i.replace('*',' ')\n",
    "    i=\"\".join([s for s in i.strip().splitlines(True) if s.strip()])\n",
    "\n",
    "    \n",
    "    if clf.predict([i])[0]==True:\n",
    "        print('Detected hate sentance: '+i)\n",
    "        print('Positive Emotion: '+str(lexicon.analyze(i, categories=[\"positive_emotion\"], normalize=True)['positive_emotion']))\n",
    "        print('Negative Emotion: '+str(lexicon.analyze(i, categories=[\"negative_emotion\"], normalize=True)['negative_emotion']))\n",
    "        print('\\n ')\n"
   ]
  },
  {
   "cell_type": "code",
   "execution_count": null,
   "metadata": {},
   "outputs": [],
   "source": []
  }
 ],
 "metadata": {
  "kernelspec": {
   "display_name": "Python 3",
   "language": "python",
   "name": "python3"
  },
  "language_info": {
   "codemirror_mode": {
    "name": "ipython",
    "version": 3
   },
   "file_extension": ".py",
   "mimetype": "text/x-python",
   "name": "python",
   "nbconvert_exporter": "python",
   "pygments_lexer": "ipython3",
   "version": "3.7.4"
  }
 },
 "nbformat": 4,
 "nbformat_minor": 2
}
